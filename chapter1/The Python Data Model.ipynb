{
 "cells": [
  {
   "cell_type": "markdown",
   "id": "86a6c217",
   "metadata": {},
   "source": [
    "## Special Methods "
   ]
  },
  {
   "cell_type": "markdown",
   "id": "206ccb93",
   "metadata": {},
   "source": [
    "The special method names are always written with leading and trailing double underscores. For example, the syntax `obj[key]` is supported by the `__getitem__` special method. In order to evaluate `my_collection[key]`, the interpreter calls `my_collection.__getitem__(key)`. The term magic method is a slang for special method. And `__getitem__` is pronounced as *dunder-getitem* where \"dunder\" is a shortcut for \"double underscore before and after\".  "
   ]
  },
  {
   "cell_type": "markdown",
   "id": "5a6f7555",
   "metadata": {},
   "source": [
    "## How Special Methods are used"
   ]
  },
  {
   "cell_type": "markdown",
   "id": "5c974ba4",
   "metadata": {},
   "source": [
    "The first thing to know about special methods is that they are meant to be called by the python interpreter and not by you (me the user). We don't write `my_object.__len__()`, we write `len(my_object)`. And if my_object is an instance of a user defined class then python calls the `__len__` method that was implemented for the class.\n",
    "\n",
    "But interpreter takes a shortcut when dealing with built-in types like `list`, `str`, `bytearray` and extensions like the NumPy arrays. Python variable-sized collection written in C include a struct called `PyVarObject`, which has an `ob_size` field holding the number of items in the collection. So, if `my_object` is an instance of those built-ins, then len(my_object) calls gets the value of ob_size field and this is much faster than calling a method.\n",
    "\n",
    "- `for i in x:` actually causes the invocation of iter(x), which in turn may call `x.__iter__()` if that is available, or use `x.__getitem__` (if that is implemented in the user defined class).\n",
    "- If we are in need to invoke special method, it is usually better to the built-ins if possible, since they are much faster than method call."
   ]
  },
  {
   "cell_type": "markdown",
   "id": "ada7e63e",
   "metadata": {},
   "source": [
    "## A Pythonic Card Deck\n",
    "\n",
    "demonstrates the power of implementing just two special methods, `__getitem__`, `__len_`."
   ]
  },
  {
   "cell_type": "code",
   "execution_count": 2,
   "id": "470bb64a",
   "metadata": {},
   "outputs": [
    {
     "name": "stdout",
     "output_type": "stream",
     "text": [
      "Card(rank='2', suit='clubs')\n",
      "Card(rank='2', suit='diamonds')\n",
      "Card(rank='2', suit='hearts')\n",
      "Card(rank='2', suit='spades')\n",
      "Card(rank='3', suit='clubs')\n",
      "Card(rank='3', suit='diamonds')\n",
      "Card(rank='3', suit='hearts')\n",
      "Card(rank='3', suit='spades')\n",
      "Card(rank='4', suit='clubs')\n",
      "Card(rank='4', suit='diamonds')\n",
      "Card(rank='4', suit='hearts')\n",
      "Card(rank='4', suit='spades')\n",
      "Card(rank='5', suit='clubs')\n",
      "Card(rank='5', suit='diamonds')\n",
      "Card(rank='5', suit='hearts')\n",
      "Card(rank='5', suit='spades')\n",
      "Card(rank='6', suit='clubs')\n",
      "Card(rank='6', suit='diamonds')\n",
      "Card(rank='6', suit='hearts')\n",
      "Card(rank='6', suit='spades')\n",
      "Card(rank='7', suit='clubs')\n",
      "Card(rank='7', suit='diamonds')\n",
      "Card(rank='7', suit='hearts')\n",
      "Card(rank='7', suit='spades')\n",
      "Card(rank='8', suit='clubs')\n",
      "Card(rank='8', suit='diamonds')\n",
      "Card(rank='8', suit='hearts')\n",
      "Card(rank='8', suit='spades')\n",
      "Card(rank='9', suit='clubs')\n",
      "Card(rank='9', suit='diamonds')\n",
      "Card(rank='9', suit='hearts')\n",
      "Card(rank='9', suit='spades')\n",
      "Card(rank='10', suit='clubs')\n",
      "Card(rank='10', suit='diamonds')\n",
      "Card(rank='10', suit='hearts')\n",
      "Card(rank='10', suit='spades')\n",
      "Card(rank='J', suit='clubs')\n",
      "Card(rank='J', suit='diamonds')\n",
      "Card(rank='J', suit='hearts')\n",
      "Card(rank='J', suit='spades')\n",
      "Card(rank='Q', suit='clubs')\n",
      "Card(rank='Q', suit='diamonds')\n",
      "Card(rank='Q', suit='hearts')\n",
      "Card(rank='Q', suit='spades')\n",
      "Card(rank='K', suit='clubs')\n",
      "Card(rank='K', suit='diamonds')\n",
      "Card(rank='K', suit='hearts')\n",
      "Card(rank='K', suit='spades')\n",
      "Card(rank='A', suit='clubs')\n",
      "Card(rank='A', suit='diamonds')\n",
      "Card(rank='A', suit='hearts')\n",
      "Card(rank='A', suit='spades')\n"
     ]
    }
   ],
   "source": [
    "import collections\n",
    "\n",
    "Card = collections.namedtuple('Card', ['rank', 'suit'])\n",
    "\n",
    "class FrenchDeck:\n",
    "    ranks = [str(n) for n in range(2, 11)] + list('JQKA')\n",
    "    suits = 'spades diamonds clubs hearts'.split()\n",
    "    \n",
    "    def __init__(self):\n",
    "        self._cards = [Card(rank, suit) for suit in self.suits for rank in self.ranks]\n",
    "        \n",
    "    def __len__(self):\n",
    "        return len(self._cards)\n",
    "    \n",
    "    def __getitem__(self, position):\n",
    "        return self._cards[position]\n",
    "    \n",
    "\n",
    "beer = Card('7', 'diamonds')\n",
    "\n",
    "deck = FrenchDeck()\n",
    "\n",
    "suit_values = dict(spades=3, hearts=2, diamonds=1, clubs=0)\n",
    "\n",
    "def spades_high(card):\n",
    "    rank_value = FrenchDeck.ranks.index(card.rank)\n",
    "    return rank_value * len(suit_values) + suit_values[card.suit]\n",
    "\n",
    "# sorting in increasing rank of card\n",
    "for card in sorted(deck, key=spades_high):\n",
    "    print(card)"
   ]
  }
 ],
 "metadata": {
  "kernelspec": {
   "display_name": "Python 3 (ipykernel)",
   "language": "python",
   "name": "python3"
  },
  "language_info": {
   "codemirror_mode": {
    "name": "ipython",
    "version": 3
   },
   "file_extension": ".py",
   "mimetype": "text/x-python",
   "name": "python",
   "nbconvert_exporter": "python",
   "pygments_lexer": "ipython3",
   "version": "3.10.4"
  }
 },
 "nbformat": 4,
 "nbformat_minor": 5
}
